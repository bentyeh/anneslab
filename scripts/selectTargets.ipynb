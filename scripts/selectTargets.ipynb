{
 "cells": [
  {
   "cell_type": "code",
   "execution_count": 1,
   "metadata": {},
   "outputs": [],
   "source": [
    "# Import all packages\n",
    "import os\n",
    "import numpy as np\n",
    "import pandas as pd\n",
    "from IPython.display import display"
   ]
  },
  {
   "cell_type": "code",
   "execution_count": 2,
   "metadata": {},
   "outputs": [],
   "source": [
    "# Global parameters / values\n",
    "dataAux_dir = \"../data_aux/\"\n",
    "results_dir = \"../results/\"\n",
    "Klaeger_filename = \"Klaeger.csv\"\n",
    "Huang_filename = \"Huang.csv\"\n",
    "Annes100_filename = \"Annes100.csv\"\n",
    "Annes500_filename = \"Annes500.csv\"\n",
    "\n",
    "# Name of column of official gene symbols\n",
    "geneSymbolColumn = \"GeneSymbol\"\n",
    "\n",
    "# Thresholds for converting kinase activity metrics to boolean values\n",
    "# - use_diff: bool\n",
    "#     Use difference between OTSSP167 and another compound as value to threshold\n",
    "#       For Annes and Huang datasets: use the absolute difference and compare to threshold diff_percent_thresh\n",
    "#       For Klaeger dataset: use fold difference and compare to threshold diff_fold_thresh\n",
    "# - diff_percent_thresh: int or float\n",
    "#     Threshold absolute difference (% control (Annes) or % activity remaining (Huang)) between a less toxic compound\n",
    "#     and OTSSP167 at which a target (kinase) is considered a potential target for the toxicity of OTSSP167\n",
    "# - diff_fold_thresh: int or float\n",
    "#     Threshold fold difference (Kd_app) between a less toxic compound and OTSSP167 at which a target (kinase)\n",
    "#     is considered a potential target for the toxicity of OTSSP167\n",
    "# - min_percent_thresh: int or float\n",
    "#     Threshold % control (Annes) or % activity remaining (Huang) at which a target is considered to be inhibited by OTSSP167\n",
    "# - max_percent_thresh: int or float\n",
    "#     Threshold % control (Annes) or % activity remaining (Huang) at which a target is considered to be not inhibited by\n",
    "#     a less toxic compound\n",
    "use_diff = True\n",
    "diff_percent_thresh = 20\n",
    "diff_fold_thresh = 20\n",
    "min_percent_thresh = 25\n",
    "max_percent_thresh = 75\n",
    "\n",
    "# Compare 100nM OTSSP167 to 100nM STF1285 (Annes100_filename) or 500nM STF1285 (Annes500_filename)\n",
    "Annes_filename = Annes100_filename"
   ]
  },
  {
   "cell_type": "code",
   "execution_count": 3,
   "metadata": {},
   "outputs": [],
   "source": [
    "## Read in data\n",
    "df1 = pd.read_csv(os.path.join(dataAux_dir, Klaeger_filename))\n",
    "df2 = pd.read_csv(os.path.join(dataAux_dir, Huang_filename))\n",
    "df3 = pd.read_csv(os.path.join(dataAux_dir, Annes_filename))"
   ]
  },
  {
   "cell_type": "markdown",
   "metadata": {},
   "source": [
    "## Boolean filtering\n",
    "\n",
    "Add new column `bool` to each DataFrame that indicates whether target is both inhibited by OTSSP167 and *not* inhibited by a less toxic compound. Find the intersection across all datasets."
   ]
  },
  {
   "cell_type": "code",
   "execution_count": 4,
   "metadata": {},
   "outputs": [],
   "source": [
    "df1['bool'] = np.nan\n",
    "df2['bool'] = np.nan\n",
    "df3['bool'] = np.nan"
   ]
  },
  {
   "cell_type": "code",
   "execution_count": 5,
   "metadata": {
    "scrolled": true
   },
   "outputs": [],
   "source": [
    "if use_diff:\n",
    "    df1['bool'] = df1['CC401'] / df1['OTSSP167'] >= diff_fold_thresh\n",
    "    df2['bool'] = df2['HTH01091'] - df2['OTSSP167'] >= diff_percent_thresh\n",
    "    df3['bool'] = df3['STF1285'] - df3['OTSSP167'] >= diff_percent_thresh\n",
    "else:\n",
    "    df1.loc[np.isinf(df1['CC401']) & (df1['OTSSP167'] < np.inf), 'bool'] = True\n",
    "    df2.loc[(df2['HTH01091'] >= max_percent_thresh) & (df2['OTSSP167'] <= min_percent_thresh), 'bool'] = True\n",
    "    df3.loc[(df3['STF1285'] >= max_percent_thresh) & (df3['OTSSP167'] <= min_percent_thresh), 'bool'] = True"
   ]
  },
  {
   "cell_type": "code",
   "execution_count": 6,
   "metadata": {
    "scrolled": true
   },
   "outputs": [
    {
     "data": {
      "text/plain": [
       "0        ABL1\n",
       "1       AURKA\n",
       "2       AURKB\n",
       "3         BTK\n",
       "4      CAMKK2\n",
       "5        CDK2\n",
       "6        CDK9\n",
       "7     CSNK2A1\n",
       "8        DDR2\n",
       "9       EPHB2\n",
       "10      GSK3B\n",
       "11      IKBKE\n",
       "12      IRAK1\n",
       "13      IRAK4\n",
       "14        LCK\n",
       "15     MAP2K1\n",
       "16    MAP3K11\n",
       "17     MAP4K5\n",
       "18     MAPK10\n",
       "19     MAPK15\n",
       "20       PAK4\n",
       "21     PRKAA1\n",
       "22    RPS6KA1\n",
       "23    RPS6KA3\n",
       "24    RPS6KA5\n",
       "25       SIK3\n",
       "26      STK16\n",
       "27       STK3\n",
       "28       TBK1\n",
       "Name: GeneSymbol, dtype: object"
      ]
     },
     "metadata": {},
     "output_type": "display_data"
    }
   ],
   "source": [
    "intersect = pd.merge(df1, df2, how='inner', on=[geneSymbolColumn, 'bool'])\n",
    "intersect = pd.merge(intersect, df3, how='inner', on=[geneSymbolColumn, 'bool'])\n",
    "intersect = intersect.loc[intersect[\"bool\"] == True, geneSymbolColumn]\n",
    "intersect.sort_values(inplace=True)\n",
    "intersect.reset_index(drop=True, inplace=True)\n",
    "display(intersect)"
   ]
  },
  {
   "cell_type": "code",
   "execution_count": 7,
   "metadata": {},
   "outputs": [],
   "source": [
    "with open(os.path.join(results_dir, \"intersect.txt\"), \"w\") as f:\n",
    "    f.write(\"\\n\".join(list(intersect)))\n",
    "    f.write(\"\\n\")"
   ]
  },
  {
   "cell_type": "markdown",
   "metadata": {},
   "source": [
    "## Rank ordering"
   ]
  },
  {
   "cell_type": "code",
   "execution_count": 8,
   "metadata": {},
   "outputs": [],
   "source": [
    "df1['diff'] = df1['CC401'] - df1['OTSSP167']\n",
    "df1.sort_values(by=['diff','OTSSP167'], ascending=[False,True], inplace=True)\n",
    "df1.reset_index(drop=True, inplace=True)\n",
    "df1['rank'] = df1.index / len(df1)\n",
    "\n",
    "df2['diff'] = df2['HTH01091'] - df2['OTSSP167']\n",
    "df2.sort_values(by=['diff','OTSSP167'], ascending=[False,True], inplace=True)\n",
    "df2.reset_index(drop=True, inplace=True)\n",
    "df2['rank'] = df2.index / len(df2)\n",
    "\n",
    "df3['diff'] = df3['STF1285'] - df3['OTSSP167']\n",
    "df3.sort_values(by=['diff','OTSSP167'], ascending=[False,True], inplace=True)\n",
    "df3.reset_index(drop=True, inplace=True)\n",
    "df3['rank'] = df3.index / len(df3)"
   ]
  },
  {
   "cell_type": "code",
   "execution_count": 9,
   "metadata": {},
   "outputs": [],
   "source": [
    "targets = list(set(df1[geneSymbolColumn]) & set(df2[geneSymbolColumn]) & set(df3[geneSymbolColumn]))"
   ]
  },
  {
   "cell_type": "code",
   "execution_count": 10,
   "metadata": {
    "scrolled": true
   },
   "outputs": [
    {
     "data": {
      "text/plain": [
       "CAMKK2      0.308940\n",
       "STK16       0.331851\n",
       "IKBKE       0.333663\n",
       "CDK9        0.377823\n",
       "GSK3B       0.394740\n",
       "MAPK10      0.435189\n",
       "AURKA       0.553542\n",
       "MAPK8       0.605219\n",
       "MAPK9       0.656360\n",
       "LCK         0.816810\n",
       "TBK1        0.836174\n",
       "MAP3K11     0.842789\n",
       "SIK3        0.870554\n",
       "TAOK1       0.878989\n",
       "MAP2K1      0.884681\n",
       "CDK2        0.904393\n",
       "PAK4        0.926483\n",
       "AURKB       0.956594\n",
       "RPS6KA3     0.964508\n",
       "EPHB4       0.974307\n",
       "IRAK4       0.981657\n",
       "MAP4K5      1.000901\n",
       "STK3        1.013383\n",
       "IRAK1       1.034375\n",
       "ABL1        1.061081\n",
       "MAPK15      1.101414\n",
       "EPHB2       1.121680\n",
       "RPS6KA1     1.126646\n",
       "RPS6KA5     1.132501\n",
       "DDR2        1.141264\n",
       "BTK         1.145414\n",
       "PIM1        1.189215\n",
       "MAP3K5      1.189387\n",
       "STK26       1.190169\n",
       "CSNK2A1     1.231818\n",
       "TGFBR1      1.262092\n",
       "MAP2K2      1.263892\n",
       "PRKAA1      1.306473\n",
       "EPHA2       1.324888\n",
       "RPS6KB1     1.326404\n",
       "EPHA4       1.388369\n",
       "MARK2       1.397299\n",
       "MAP2K6      1.403014\n",
       "SIK2        1.404141\n",
       "CSK         1.438198\n",
       "MAPKAPK5    1.452587\n",
       "RIPK2       1.466090\n",
       "MARK3       1.513660\n",
       "AKT1        1.527988\n",
       "IGF1R       1.544228\n",
       "PKN2        1.552339\n",
       "AKT2        1.555832\n",
       "SYK         1.568642\n",
       "EPHB3       1.569380\n",
       "CSNK1D      1.589198\n",
       "MAP4K3      1.593075\n",
       "MAPK11      1.601204\n",
       "FGFR1       1.620693\n",
       "MAPK7       1.625603\n",
       "CHEK1       1.634874\n",
       "PRKACA      1.660915\n",
       "MELK        1.666698\n",
       "MAPK14      1.711597\n",
       "SRC         1.751673\n",
       "MYLK        1.828979\n",
       "DYRK1A      1.902769\n",
       "PTK6        1.923057\n",
       "NTRK1       1.956781\n",
       "CLK2        2.030078\n",
       "ULK1        2.097868\n",
       "ROCK2       2.107188\n",
       "PAK2        2.189288\n",
       "MAPK3       2.191069\n",
       "NEK2        2.339623\n",
       "MAPK1       2.350304\n",
       "MAP3K1      2.467952\n",
       "YES1        2.496314\n",
       "STK11       2.639269\n",
       "dtype: float64"
      ]
     },
     "metadata": {},
     "output_type": "display_data"
    }
   ],
   "source": [
    "rank = pd.Series({target: (df1.loc[df1[geneSymbolColumn] == target, 'rank'].values[0] +\n",
    "                           df2.loc[df2[geneSymbolColumn] == target, 'rank'].values[0] +\n",
    "                           df3.loc[df3[geneSymbolColumn] == target, 'rank'].values[0]) for target in targets})\n",
    "rank.sort_values(ascending=True, inplace=True)\n",
    "with pd.option_context('display.max_rows', None):\n",
    "    display(rank)"
   ]
  },
  {
   "cell_type": "code",
   "execution_count": 11,
   "metadata": {},
   "outputs": [],
   "source": [
    "rank.to_csv(os.path.join(results_dir, \"rank.tsv\"), index=True, sep=\"\\t\")"
   ]
  },
  {
   "cell_type": "markdown",
   "metadata": {},
   "source": [
    "## Boolean filtering based on increasing STF-1285 concentration\n",
    "\n",
    "This is not meant to identify toxic targets of OTSSP167 but instead to get an idea of targets that may be responsible for toxicity of STF-1285 at higher concentrations."
   ]
  },
  {
   "cell_type": "code",
   "execution_count": 12,
   "metadata": {},
   "outputs": [],
   "source": [
    "# Parameters\n",
    "diff_percent_thresh = 50\n",
    "min_percent_thresh = 25\n",
    "max_percent_thresh = 75"
   ]
  },
  {
   "cell_type": "code",
   "execution_count": 13,
   "metadata": {},
   "outputs": [],
   "source": [
    "df4 = pd.read_csv(os.path.join(dataAux_dir, Annes100_filename))\n",
    "df5 = pd.read_csv(os.path.join(dataAux_dir, Annes500_filename))"
   ]
  },
  {
   "cell_type": "code",
   "execution_count": 14,
   "metadata": {},
   "outputs": [],
   "source": [
    "# merge 100 nM and 500 nM datasets\n",
    "stf1285 = pd.merge(df4, df5, how='inner', on=[geneSymbolColumn], suffixes=(\" (100 nM)\", \" (500 nM)\"))\n",
    "stf1285 = stf1285[[geneSymbolColumn, \"STF1285 (100 nM)\", \"STF1285 (500 nM)\"]]\n",
    "stf1285['diff'] = stf1285[\"STF1285 (100 nM)\"] - stf1285[\"STF1285 (500 nM)\"]\n",
    "stf1285.sort_values(by='diff', ascending=False, inplace=True)\n",
    "stf1285.reset_index(drop=True, inplace=True)"
   ]
  },
  {
   "cell_type": "code",
   "execution_count": 15,
   "metadata": {
    "scrolled": true
   },
   "outputs": [
    {
     "data": {
      "text/plain": [
       "0     CSNK2A1\n",
       "1      MAP2K3\n",
       "2        JAK3\n",
       "3       MARK2\n",
       "4       NUAK2\n",
       "5       ROCK1\n",
       "6       PHKG2\n",
       "7       LRRK2\n",
       "8        MELK\n",
       "9        BUB1\n",
       "10     BMPR1B\n",
       "11        CIT\n",
       "12       AAK1\n",
       "13        SLK\n",
       "14     MAP4K3\n",
       "15    CSNK2A2\n",
       "16      MYO3B\n",
       "17      EPHB6\n",
       "18      STK10\n",
       "Name: GeneSymbol, dtype: object"
      ]
     },
     "execution_count": 15,
     "metadata": {},
     "output_type": "execute_result"
    }
   ],
   "source": [
    "stf1285['bool'] = (stf1285['diff'] >= diff_percent_thresh) #& \\\n",
    "                  #(stf1285['STF1285 (500 nM)'] <= min_percent_thresh) & \\\n",
    "                  #(stf1285['STF1285 (100 nM)'] >= max_percent_thresh)\n",
    "stf1285.loc[stf1285['bool'] == True, geneSymbolColumn]"
   ]
  }
 ],
 "metadata": {
  "kernelspec": {
   "display_name": "Python 3",
   "language": "python",
   "name": "python3"
  },
  "language_info": {
   "codemirror_mode": {
    "name": "ipython",
    "version": 3
   },
   "file_extension": ".py",
   "mimetype": "text/x-python",
   "name": "python",
   "nbconvert_exporter": "python",
   "pygments_lexer": "ipython3",
   "version": "3.6.4"
  }
 },
 "nbformat": 4,
 "nbformat_minor": 2
}
