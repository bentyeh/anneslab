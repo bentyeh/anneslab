{
 "cells": [
  {
   "cell_type": "code",
   "execution_count": 1,
   "metadata": {},
   "outputs": [],
   "source": [
    "# Import all packages\n",
    "import numpy as np\n",
    "import pandas as pd"
   ]
  },
  {
   "cell_type": "code",
   "execution_count": 2,
   "metadata": {},
   "outputs": [],
   "source": [
    "## parameters\n",
    "use_diff = True\n",
    "percent_thresh = 25 # threshold for % activity remaining\n",
    "diff_percent_thresh = 50\n",
    "fold_diff_thresh = 50"
   ]
  },
  {
   "cell_type": "code",
   "execution_count": 3,
   "metadata": {},
   "outputs": [],
   "source": [
    "## Read in data\n",
    "df1 = pd.read_csv('Klaeger(2017)_Science_processed.csv')\n",
    "df2 = pd.read_csv('Huang(2017)_eLife_Fig1source_processed.csv')\n",
    "df3 = pd.read_csv('Annes(2018)_Kinome500.csv') # Annes(2018)_Kinome.csv"
   ]
  },
  {
   "cell_type": "code",
   "execution_count": 4,
   "metadata": {
    "scrolled": true
   },
   "outputs": [],
   "source": [
    "df1 = df1[['Name_official','OTS-167','CC-401']]\n",
    "df1.rename(mapper={'Name_official': 'target', 'OTS-167': 'OTSSP167'}, axis='columns', inplace=True)\n",
    "\n",
    "if use_diff:\n",
    "    df1['OTSSP167'] = df1['CC-401'] / df1['OTSSP167'] >= fold_diff_thresh\n",
    "    df1.drop('CC-401', axis=1, inplace=True)\n",
    "else:\n",
    "    df1.loc[df1['CC-401'] < np.inf, 'CC-401'] = True\n",
    "    df1.loc[df1['CC-401'] == np.inf, 'CC-401'] = False\n",
    "    df1.loc[df1['OTSSP167'] < np.inf, 'OTSSP167'] = True\n",
    "    df1.loc[df1['OTSSP167'] == np.inf, 'OTSSP167'] = False"
   ]
  },
  {
   "cell_type": "code",
   "execution_count": 5,
   "metadata": {
    "scrolled": true
   },
   "outputs": [],
   "source": [
    "df2 = df2[['Name_official','OTSSP167 (1 μM) % AR','HTH-01-091 (1 μM) % AR']]\n",
    "df2.rename(mapper={'Name_official': 'target', 'OTSSP167 (1 μM) % AR': 'OTSSP167', 'HTH-01-091 (1 μM) % AR': 'HTH-01-091'}, axis='columns', inplace=True)\n",
    "\n",
    "if use_diff:\n",
    "    df2['OTSSP167'] = df2['HTH-01-091'] - df2['OTSSP167'] >= diff_percent_thresh\n",
    "    df2.drop('HTH-01-091', axis=1, inplace=True)\n",
    "else:\n",
    "    df2.loc[(df2['OTSSP167'] < percent_thresh).values, 'OTSSP167'] = True\n",
    "    df2.loc[df2['OTSSP167'] >= percent_thresh, 'OTSSP167'] = False\n",
    "    df2.loc[df2['HTH-01-091'] < percent_thresh, 'HTH-01-091'] = True\n",
    "    df2.loc[df2['HTH-01-091'] >= percent_thresh, 'HTH-01-091'] = False"
   ]
  },
  {
   "cell_type": "code",
   "execution_count": 6,
   "metadata": {},
   "outputs": [],
   "source": [
    "df3 = df3[['Entrez Gene Symbol','Percent Control (1081)','Percent Control (1285)']]\n",
    "df3.rename(mapper={'Entrez Gene Symbol': 'target', 'Percent Control (1081)': 'OTSSP167', 'Percent Control (1285)': 'STF-1285'}, axis='columns', inplace=True)\n",
    "\n",
    "if use_diff:\n",
    "    df3['OTSSP167'] = df3['STF-1285'] - df3['OTSSP167'] >= diff_percent_thresh\n",
    "    df3.drop('STF-1285', axis=1, inplace=True)\n",
    "else:\n",
    "    df3.loc[df3['OTSSP167'] < percent_thresh, 'OTSSP167'] = True\n",
    "    df3.loc[df3['OTSSP167'] >= percent_thresh, 'OTSSP167'] = False\n",
    "    df3.loc[df3['STF-1285'] < percent_thresh, 'STF-1285'] = True\n",
    "    df3.loc[df3['STF-1285'] >= percent_thresh, 'STF-1285'] = False"
   ]
  },
  {
   "cell_type": "code",
   "execution_count": 7,
   "metadata": {
    "scrolled": false
   },
   "outputs": [
    {
     "data": {
      "text/html": [
       "<div>\n",
       "<style scoped>\n",
       "    .dataframe tbody tr th:only-of-type {\n",
       "        vertical-align: middle;\n",
       "    }\n",
       "\n",
       "    .dataframe tbody tr th {\n",
       "        vertical-align: top;\n",
       "    }\n",
       "\n",
       "    .dataframe thead th {\n",
       "        text-align: right;\n",
       "    }\n",
       "</style>\n",
       "<table border=\"1\" class=\"dataframe\">\n",
       "  <thead>\n",
       "    <tr style=\"text-align: right;\">\n",
       "      <th></th>\n",
       "      <th>target</th>\n",
       "      <th>OTSSP167</th>\n",
       "    </tr>\n",
       "  </thead>\n",
       "  <tbody>\n",
       "    <tr>\n",
       "      <th>11</th>\n",
       "      <td>AURKA</td>\n",
       "      <td>True</td>\n",
       "    </tr>\n",
       "    <tr>\n",
       "      <th>6</th>\n",
       "      <td>CAMKK2</td>\n",
       "      <td>True</td>\n",
       "    </tr>\n",
       "    <tr>\n",
       "      <th>5</th>\n",
       "      <td>CDK2</td>\n",
       "      <td>True</td>\n",
       "    </tr>\n",
       "    <tr>\n",
       "      <th>4</th>\n",
       "      <td>CDK9</td>\n",
       "      <td>True</td>\n",
       "    </tr>\n",
       "    <tr>\n",
       "      <th>15</th>\n",
       "      <td>CLK2</td>\n",
       "      <td>False</td>\n",
       "    </tr>\n",
       "    <tr>\n",
       "      <th>10</th>\n",
       "      <td>CSNK1D</td>\n",
       "      <td>False</td>\n",
       "    </tr>\n",
       "    <tr>\n",
       "      <th>0</th>\n",
       "      <td>DYRK1A</td>\n",
       "      <td>False</td>\n",
       "    </tr>\n",
       "    <tr>\n",
       "      <th>3</th>\n",
       "      <td>GSK3B</td>\n",
       "      <td>True</td>\n",
       "    </tr>\n",
       "    <tr>\n",
       "      <th>8</th>\n",
       "      <td>IKBKE</td>\n",
       "      <td>True</td>\n",
       "    </tr>\n",
       "    <tr>\n",
       "      <th>14</th>\n",
       "      <td>MAP2K1</td>\n",
       "      <td>True</td>\n",
       "    </tr>\n",
       "    <tr>\n",
       "      <th>16</th>\n",
       "      <td>MAP3K1</td>\n",
       "      <td>False</td>\n",
       "    </tr>\n",
       "    <tr>\n",
       "      <th>2</th>\n",
       "      <td>MAP3K11</td>\n",
       "      <td>True</td>\n",
       "    </tr>\n",
       "    <tr>\n",
       "      <th>17</th>\n",
       "      <td>MAPK1</td>\n",
       "      <td>False</td>\n",
       "    </tr>\n",
       "    <tr>\n",
       "      <th>18</th>\n",
       "      <td>MAPK3</td>\n",
       "      <td>False</td>\n",
       "    </tr>\n",
       "    <tr>\n",
       "      <th>1</th>\n",
       "      <td>MELK</td>\n",
       "      <td>False</td>\n",
       "    </tr>\n",
       "    <tr>\n",
       "      <th>19</th>\n",
       "      <td>NEK2</td>\n",
       "      <td>False</td>\n",
       "    </tr>\n",
       "    <tr>\n",
       "      <th>20</th>\n",
       "      <td>PAK2</td>\n",
       "      <td>False</td>\n",
       "    </tr>\n",
       "    <tr>\n",
       "      <th>13</th>\n",
       "      <td>PAK4</td>\n",
       "      <td>True</td>\n",
       "    </tr>\n",
       "    <tr>\n",
       "      <th>21</th>\n",
       "      <td>ROCK2</td>\n",
       "      <td>False</td>\n",
       "    </tr>\n",
       "    <tr>\n",
       "      <th>7</th>\n",
       "      <td>RPS6KA3</td>\n",
       "      <td>True</td>\n",
       "    </tr>\n",
       "    <tr>\n",
       "      <th>12</th>\n",
       "      <td>RPS6KA5</td>\n",
       "      <td>True</td>\n",
       "    </tr>\n",
       "    <tr>\n",
       "      <th>22</th>\n",
       "      <td>STK11</td>\n",
       "      <td>False</td>\n",
       "    </tr>\n",
       "    <tr>\n",
       "      <th>9</th>\n",
       "      <td>STK16</td>\n",
       "      <td>True</td>\n",
       "    </tr>\n",
       "    <tr>\n",
       "      <th>23</th>\n",
       "      <td>YES1</td>\n",
       "      <td>False</td>\n",
       "    </tr>\n",
       "  </tbody>\n",
       "</table>\n",
       "</div>"
      ],
      "text/plain": [
       "     target  OTSSP167\n",
       "11    AURKA      True\n",
       "6    CAMKK2      True\n",
       "5      CDK2      True\n",
       "4      CDK9      True\n",
       "15     CLK2     False\n",
       "10   CSNK1D     False\n",
       "0    DYRK1A     False\n",
       "3     GSK3B      True\n",
       "8     IKBKE      True\n",
       "14   MAP2K1      True\n",
       "16   MAP3K1     False\n",
       "2   MAP3K11      True\n",
       "17    MAPK1     False\n",
       "18    MAPK3     False\n",
       "1      MELK     False\n",
       "19     NEK2     False\n",
       "20     PAK2     False\n",
       "13     PAK4      True\n",
       "21    ROCK2     False\n",
       "7   RPS6KA3      True\n",
       "12  RPS6KA5      True\n",
       "22    STK11     False\n",
       "9     STK16      True\n",
       "23     YES1     False"
      ]
     },
     "execution_count": 7,
     "metadata": {},
     "output_type": "execute_result"
    }
   ],
   "source": [
    "result = pd.merge(df1, df2, how='inner', on=['target', 'OTSSP167'])\n",
    "result = pd.merge(result, df3, how='inner', on=['target', 'OTSSP167'])\n",
    "result.sort_values(by='target', inplace=True)\n",
    "result"
   ]
  },
  {
   "cell_type": "code",
   "execution_count": 8,
   "metadata": {
    "scrolled": false
   },
   "outputs": [
    {
     "name": "stdout",
     "output_type": "stream",
     "text": [
      "AURKA\n",
      "CAMKK2\n",
      "CDK2\n",
      "CDK9\n",
      "GSK3B\n",
      "IKBKE\n",
      "MAP2K1\n",
      "MAP3K11\n",
      "PAK4\n",
      "RPS6KA3\n",
      "RPS6KA5\n",
      "STK16\n"
     ]
    }
   ],
   "source": [
    "selected = []\n",
    "\n",
    "if use_diff:\n",
    "    selected = list(result.loc[result['OTSSP167'] == True, 'target'].values)\n",
    "else:\n",
    "    for target in result['target']:\n",
    "        if np.array_equal(np.squeeze(result.loc[result['target'] == target, ['OTSSP167', 'CC-401', 'HTH-01-091', 'STF-1285']].values.astype(bool)), np.array([True, False, False, False])):\n",
    "            selected.append(target)\n",
    "\n",
    "print('\\n'.join(selected))"
   ]
  },
  {
   "cell_type": "code",
   "execution_count": 9,
   "metadata": {},
   "outputs": [
    {
     "data": {
      "text/plain": [
       "['AURKA',\n",
       " 'CAMKK2',\n",
       " 'CDK2',\n",
       " 'CDK9',\n",
       " 'GSK3B',\n",
       " 'IKBKE',\n",
       " 'MAP2K1',\n",
       " 'MAP3K11',\n",
       " 'PAK4',\n",
       " 'RPS6KA3',\n",
       " 'RPS6KA5',\n",
       " 'STK16']"
      ]
     },
     "execution_count": 9,
     "metadata": {},
     "output_type": "execute_result"
    }
   ],
   "source": [
    "selected"
   ]
  },
  {
   "cell_type": "code",
   "execution_count": null,
   "metadata": {},
   "outputs": [],
   "source": []
  }
 ],
 "metadata": {
  "kernelspec": {
   "display_name": "Python 3",
   "language": "python",
   "name": "python3"
  },
  "language_info": {
   "codemirror_mode": {
    "name": "ipython",
    "version": 3
   },
   "file_extension": ".py",
   "mimetype": "text/x-python",
   "name": "python",
   "nbconvert_exporter": "python",
   "pygments_lexer": "ipython3",
   "version": "3.6.4"
  }
 },
 "nbformat": 4,
 "nbformat_minor": 2
}
