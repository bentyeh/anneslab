{
 "cells": [
  {
   "cell_type": "code",
   "execution_count": 1,
   "metadata": {},
   "outputs": [],
   "source": [
    "# Import all packages\n",
    "import numpy as np\n",
    "import pandas as pd"
   ]
  },
  {
   "cell_type": "code",
   "execution_count": 2,
   "metadata": {},
   "outputs": [],
   "source": [
    "## parameters\n",
    "percent_thresh = 10 # threshold for % activity remaining\n",
    "diff_percent_thresh = 50"
   ]
  },
  {
   "cell_type": "code",
   "execution_count": 3,
   "metadata": {},
   "outputs": [],
   "source": [
    "## Read in data\n",
    "df1 = pd.read_csv('Klaeger(2017)_Science_processed.csv')\n",
    "df2 = pd.read_csv('Huang(2017)_eLife_Fig1source_processed.csv')\n",
    "df3 = pd.read_csv('Annes(2018)_Kinome500.csv') # Annes(2018)_Kinome.csv"
   ]
  },
  {
   "cell_type": "code",
   "execution_count": 4,
   "metadata": {
    "scrolled": false
   },
   "outputs": [],
   "source": [
    "df1 = df1[['Name_official','OTS-167','CC-401']]\n",
    "df1.rename(mapper={'Name_official': 'target', 'OTS-167': 'OTSSP167'}, axis='columns', inplace=True)\n",
    "df1['diff'] = df1['CC-401'] - df1['OTSSP167']\n",
    "df1.sort_values(by=['diff','OTSSP167'], ascending=[False,True], inplace=True, na_position='last')\n",
    "df1.reset_index(drop=True, inplace=True)\n",
    "df1['rank'] = df1.index / len(df1)"
   ]
  },
  {
   "cell_type": "code",
   "execution_count": 5,
   "metadata": {
    "scrolled": true
   },
   "outputs": [],
   "source": [
    "df2 = df2[['Name_official','OTSSP167 (1 μM) % AR','HTH-01-091 (1 μM) % AR', 'Diff']]\n",
    "df2.rename(mapper={'Name_official': 'target', 'OTSSP167 (1 μM) % AR': 'OTSSP167', 'HTH-01-091 (1 μM) % AR': 'HTH-01-091', 'Diff': 'diff'}, axis='columns', inplace=True)\n",
    "\n",
    "df2.sort_values(by=['diff','OTSSP167'], ascending=[False,True], inplace=True, na_position='last')\n",
    "df2.reset_index(drop=True, inplace=True)\n",
    "df2['rank'] = df2.index / len(df2)"
   ]
  },
  {
   "cell_type": "code",
   "execution_count": 6,
   "metadata": {},
   "outputs": [],
   "source": [
    "df3 = df3[['Entrez Gene Symbol','Percent Control (1081)','Percent Control (1285)']]\n",
    "df3.rename(mapper={'Entrez Gene Symbol': 'target', 'Percent Control (1081)': 'OTSSP167', 'Percent Control (1285)': 'STF-1285'}, axis='columns', inplace=True)\n",
    "df3['diff'] = df3['STF-1285'] - df3['OTSSP167']\n",
    "df3.sort_values(by=['diff','OTSSP167'], ascending=[False,True], inplace=True, na_position='last')\n",
    "df3.reset_index(drop=True, inplace=True)\n",
    "df3['rank'] = df3.index / len(df3)"
   ]
  },
  {
   "cell_type": "code",
   "execution_count": 7,
   "metadata": {
    "scrolled": false
   },
   "outputs": [
    {
     "data": {
      "text/plain": [
       "CAMKK2     0.301921\n",
       "STK16      0.320201\n",
       "IKBKE      0.324387\n",
       "CDK9       0.371758\n",
       "GSK3B      0.388713\n",
       "MAPK10     0.414134\n",
       "AURKA      0.535726\n",
       "MAPK8      0.582148\n",
       "MAPK9      0.631413\n",
       "LCK        0.807427\n",
       "TBK1       0.818295\n",
       "MAP3K11    0.838023\n",
       "RPS6KA3    0.851515\n",
       "MAP2K1     0.864841\n",
       "TAOK1      0.871440\n",
       "CDK2       0.895155\n",
       "PAK4       0.906551\n",
       "AURKB      0.942376\n",
       "ABL1       0.947597\n",
       "EPHB4      0.965065\n",
       "IRAK4      0.967594\n",
       "MAP4K5     0.991360\n",
       "STK3       0.997503\n",
       "IRAK1      1.019521\n",
       "MAPK15     1.090345\n",
       "RPS6KA1    1.108535\n",
       "EPHB2      1.111988\n",
       "DDR2       1.112537\n",
       "RPS6KA5    1.114016\n",
       "BTK        1.134905\n",
       "             ...   \n",
       "AKT1       1.517855\n",
       "PKN2       1.522698\n",
       "IGF1R      1.529701\n",
       "AKT2       1.547173\n",
       "EPHB3      1.549278\n",
       "SYK        1.549299\n",
       "CSNK1D     1.563770\n",
       "MAP4K3     1.579587\n",
       "MAPK11     1.594412\n",
       "FGFR1      1.598213\n",
       "MAPK7      1.609361\n",
       "CHEK1      1.617331\n",
       "PRKACA     1.632500\n",
       "MELK       1.638111\n",
       "MAPK14     1.696609\n",
       "SRC        1.729713\n",
       "MYLK       1.799277\n",
       "DYRK1A     1.874898\n",
       "PTK6       1.891138\n",
       "NTRK1      1.927501\n",
       "CLK2       2.010919\n",
       "ULK1       2.069415\n",
       "ROCK2      2.071374\n",
       "PAK2       2.155915\n",
       "MAPK3      2.173148\n",
       "NEK2       2.310870\n",
       "MAPK1      2.334086\n",
       "MAP3K1     2.450445\n",
       "YES1       2.464592\n",
       "STK11      2.587105\n",
       "Length: 76, dtype: float64"
      ]
     },
     "execution_count": 7,
     "metadata": {},
     "output_type": "execute_result"
    }
   ],
   "source": [
    "# targets = pd.Series(list(set(df1['target']) & set(df2['target'])))\n",
    "# targets = pd.Series(list(set(df1['target']) & set(df3['target'])))\n",
    "# targets = pd.Series(list(set(df2['target']) & set(df3['target'])))\n",
    "targets = pd.Series(list(set(df1['target']) & set(df2['target']) & set(df3['target'])))\n",
    "\n",
    "# result = pd.Series({target: (df1.loc[df1['target'] == target, 'rank'].values[0] + df2.loc[df2['target'] == target, 'rank'].values[0]) for target in targets})\n",
    "# result = pd.Series({target: (df1.loc[df1['target'] == target, 'rank'].values[0] + df3.loc[df3['target'] == target, 'rank'].values[0]) for target in targets})\n",
    "# result = pd.Series({target: (df2.loc[df2['target'] == target, 'rank'].values[0] + df3.loc[df3['target'] == target, 'rank'].values[0]) for target in targets})\n",
    "result = pd.Series({target: (df1.loc[df1['target'] == target, 'rank'].values[0] + df2.loc[df2['target'] == target, 'rank'].values[0] + df3.loc[df3['target'] == target, 'rank'].values[0]) for target in targets})\n",
    "result.sort_values(ascending=True, inplace=True)\n",
    "result"
   ]
  },
  {
   "cell_type": "code",
   "execution_count": null,
   "metadata": {},
   "outputs": [],
   "source": [
    "## Summary of results\n",
    "\n",
    "boolean_select =    ['ABL1', 'AURKA', 'CAMKK2', 'CDK2', 'CDK9', 'GSK3B', 'IKBKE', 'MAP2K1', 'MAP3K11', 'PAK4', 'RPS6KA3', 'RPS6KA5', 'STK16', 'TBK1']\n",
    "boolean_select500 = ['AURKA', 'CAMKK2', 'CDK2', 'CDK9', 'GSK3B', 'IKBKE', 'MAP2K1', 'MAP3K11', 'PAK4', 'RPS6KA3', 'RPS6KA5', 'STK16']\n",
    "\n",
    "result = ['CAMKK2', 'STK16', 'IKBKE', 'CDK9', 'GSK3B', 'MAPK10', 'AURKA', 'MAPK8', 'MAPK9', 'LCK', 'TBK1', 'MAP3K11', 'RPS6KA3', 'MAP2K1', 'TAOK1', 'CDK2', 'PAK4', 'AURKB', 'ABL1', 'EPHB4', 'IRAK4', 'MAP4K5', 'STK3', 'IRAK1', 'MAPK15', 'RPS6KA1', 'EPHB2', 'DDR2', 'RPS6KA5', 'BTK', 'MAP3K5', 'PIM1', 'CSNK2A1', 'MAP2K2', 'TGFBR1', 'PRKAA1', 'RPS6KB1', 'EPHA2', 'EPHA4', 'MAP2K6', 'MARK2', 'SIK2', 'CSK', 'MAPKAPK5', 'RIPK2', 'MARK3', 'AKT1', 'PKN2', 'IGF1R', 'AKT2', 'EPHB3', 'SYK', 'CSNK1D', 'MAP4K3', 'MAPK11', 'FGFR1', 'MAPK7', 'CHEK1', 'PRKACA', 'MELK', 'MAPK14', 'SRC', 'MYLK', 'DYRK1A', 'PTK6', 'NTRK1', 'CLK2', 'ULK1', 'ROCK2', 'PAK2', 'MAPK3', 'NEK2', 'MAPK1', 'MAP3K1', 'YES1', 'STK11']\n",
    "result500 = ['IKBKE', 'CDK9', 'CAMKK2', 'AURKA', 'GSK3B', 'STK16', 'MAPK10', 'MAPK8', 'MAPK9', 'CDK2', 'MAP3K11', 'TBK1', 'MAPK15', 'RPS6KA3', 'TAOK1', 'PAK4', 'EPHB2', 'DDR2', 'ABL1', 'LCK', 'STK3', 'MAP2K1', 'RPS6KA1', 'PIM1', 'BTK', 'RPS6KA5', 'MAP4K5', 'EPHB4', 'TGFBR1', 'AURKB', 'PRKAA1', 'MAP3K5', 'IRAK4', 'EPHA2', 'EPHA4', 'RIPK2', 'IRAK1', 'MAP2K6', 'CSK', 'RPS6KB1', 'MAP2K2', 'PKN2', 'SIK2', 'AKT1', 'CSNK1D', 'MAPK7', 'SYK', 'AKT2', 'FGFR1', 'MARK3', 'MAPKAPK5', 'CSNK2A1', 'IGF1R', 'MAPK11', 'MAPK14', 'EPHB3', 'PTK6', 'SRC', 'MARK2', 'CHEK1', 'PRKACA', 'MAP4K3', 'DYRK1A', 'MYLK', 'NTRK1', 'ULK1', 'MELK', 'CLK2', 'PAK2', 'ROCK2', 'NEK2', 'MAPK3', 'MAPK1', 'MAP3K1', 'YES1', 'STK11']\n",
    "\n",
    "print(len(boolean_select))\n",
    "rank_select = list(result.index[0:30])\n",
    "joined = set(boolean_select) & set(rank_select)\n",
    "joined"
   ]
  },
  {
   "cell_type": "code",
   "execution_count": null,
   "metadata": {},
   "outputs": [],
   "source": [
    "print([x for x in boolean_select if x not in joined])"
   ]
  }
 ],
 "metadata": {
  "kernelspec": {
   "display_name": "Python 3",
   "language": "python",
   "name": "python3"
  },
  "language_info": {
   "codemirror_mode": {
    "name": "ipython",
    "version": 3
   },
   "file_extension": ".py",
   "mimetype": "text/x-python",
   "name": "python",
   "nbconvert_exporter": "python",
   "pygments_lexer": "ipython3",
   "version": "3.6.4"
  }
 },
 "nbformat": 4,
 "nbformat_minor": 2
}
